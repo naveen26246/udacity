{
 "cells": [
  {
   "cell_type": "markdown",
   "metadata": {},
   "source": [
    "# Project: Identify Customer Segments\n",
    "\n",
    "In this project, you will apply unsupervised learning techniques to identify segments of the population that form the core customer base for a mail-order sales company in Germany. These segments can then be used to direct marketing campaigns towards audiences that will have the highest expected rate of returns. The data that you will use has been provided by our partners at Bertelsmann Arvato Analytics, and represents a real-life data science task.\n",
    "\n",
    "This notebook will help you complete this task by providing a framework within which you will perform your analysis steps. In each step of the project, you will see some text describing the subtask that you will perform, followed by one or more code cells for you to complete your work. **Feel free to add additional code and markdown cells as you go along so that you can explore everything in precise chunks.** The code cells provided in the base template will outline only the major tasks, and will usually not be enough to cover all of the minor tasks that comprise it.\n",
    "\n",
    "It should be noted that while there will be precise guidelines on how you should handle certain tasks in the project, there will also be places where an exact specification is not provided. **There will be times in the project where you will need to make and justify your own decisions on how to treat the data.** These are places where there may not be only one way to handle the data. In real-life tasks, there may be many valid ways to approach an analysis task. One of the most important things you can do is clearly document your approach so that other scientists can understand the decisions you've made.\n",
    "\n",
    "At the end of most sections, there will be a Markdown cell labeled **Discussion**. In these cells, you will report your findings for the completed section, as well as document the decisions that you made in your approach to each subtask. **Your project will be evaluated not just on the code used to complete the tasks outlined, but also your communication about your observations and conclusions at each stage.**"
   ]
  },
  {
   "cell_type": "code",
   "execution_count": 1,
   "metadata": {},
   "outputs": [],
   "source": [
    "# import libraries here; add more as necessary\n",
    "import numpy as np\n",
    "import pandas as pd\n",
    "import matplotlib.pyplot as plt\n",
    "import seaborn as sns\n",
    "\n",
    "# magic word for producing visualizations in notebook\n",
    "%matplotlib inline"
   ]
  },
  {
   "cell_type": "markdown",
   "metadata": {},
   "source": [
    "### Step 0: Load the Data\n",
    "\n",
    "There are four files associated with this project (not including this one):\n",
    "\n",
    "- `Udacity_AZDIAS_Subset.csv`: Demographics data for the general population of Germany; 891211 persons (rows) x 85 features (columns).\n",
    "- `Udacity_CUSTOMERS_Subset.csv`: Demographics data for customers of a mail-order company; 191652 persons (rows) x 85 features (columns).\n",
    "- `Data_Dictionary.md`: Detailed information file about the features in the provided datasets.\n",
    "- `AZDIAS_Feature_Summary.csv`: Summary of feature attributes for demographics data; 85 features (rows) x 4 columns\n",
    "\n",
    "Each row of the demographics files represents a single person, but also includes information outside of individuals, including information about their household, building, and neighborhood. You will use this information to cluster the general population into groups with similar demographic properties. Then, you will see how the people in the customers dataset fit into those created clusters. The hope here is that certain clusters are over-represented in the customers data, as compared to the general population; those over-represented clusters will be assumed to be part of the core userbase. This information can then be used for further applications, such as targeting for a marketing campaign.\n",
    "\n",
    "To start off with, load in the demographics data for the general population into a pandas DataFrame, and do the same for the feature attributes summary. Note for all of the `.csv` data files in this project: they're semicolon (`;`) delimited, so you'll need an additional argument in your [`read_csv()`](https://pandas.pydata.org/pandas-docs/stable/generated/pandas.read_csv.html) call to read in the data properly. Also, considering the size of the main dataset, it may take some time for it to load completely.\n",
    "\n",
    "Once the dataset is loaded, it's recommended that you take a little bit of time just browsing the general structure of the dataset and feature summary file. You'll be getting deep into the innards of the cleaning in the first major step of the project, so gaining some general familiarity can help you get your bearings."
   ]
  },
  {
   "cell_type": "code",
   "execution_count": 2,
   "metadata": {},
   "outputs": [],
   "source": [
    "# Load in the general demographics data.\n",
    "azdias = pd.read_csv(\"Udacity_AZDIAS_Subset.csv\",sep = \";\")\n",
    "\n",
    "# Load in the feature summary file.\n",
    "feat_info = pd.read_csv(\"AZDIAS_Feature_Summary.csv\",sep = \";\")"
   ]
  },
  {
   "cell_type": "code",
   "execution_count": 3,
   "metadata": {},
   "outputs": [],
   "source": [
    "# Check the structure of the data after it's loaded (e.g. print the number of\n",
    "# rows and columns, print the first few rows).\n",
    "\n",
    "# azdias.describe()\n",
    "# feat_info.head()\n",
    "# azdias.isnull().sum()\n"
   ]
  },
  {
   "cell_type": "code",
   "execution_count": null,
   "metadata": {},
   "outputs": [],
   "source": []
  },
  {
   "cell_type": "markdown",
   "metadata": {},
   "source": [
    "> **Tip**: Add additional cells to keep everything in reasonably-sized chunks! Keyboard shortcut `esc --> a` (press escape to enter command mode, then press the 'A' key) adds a new cell before the active cell, and `esc --> b` adds a new cell after the active cell. If you need to convert an active cell to a markdown cell, use `esc --> m` and to convert to a code cell, use `esc --> y`. \n",
    "\n",
    "## Step 1: Preprocessing\n",
    "\n",
    "### Step 1.1: Assess Missing Data\n",
    "\n",
    "The feature summary file contains a summary of properties for each demographics data column. You will use this file to help you make cleaning decisions during this stage of the project. First of all, you should assess the demographics data in terms of missing data. Pay attention to the following points as you perform your analysis, and take notes on what you observe. Make sure that you fill in the **Discussion** cell with your findings and decisions at the end of each step that has one!\n",
    "\n",
    "#### Step 1.1.1: Convert Missing Value Codes to NaNs\n",
    "The fourth column of the feature attributes summary (loaded in above as `feat_info`) documents the codes from the data dictionary that indicate missing or unknown data. While the file encodes this as a list (e.g. `[-1,0]`), this will get read in as a string object. You'll need to do a little bit of parsing to make use of it to identify and clean the data. Convert data that matches a 'missing' or 'unknown' value code into a numpy NaN value. You might want to see how much data takes on a 'missing' or 'unknown' code, and how much data is naturally missing, as a point of interest.\n",
    "\n",
    "**As one more reminder, you are encouraged to add additional cells to break up your analysis into manageable chunks.**"
   ]
  },
  {
   "cell_type": "code",
   "execution_count": 4,
   "metadata": {},
   "outputs": [],
   "source": [
    "# Identify missing or unknown data values and convert them to NaNs.\n",
    "\n",
    "\n",
    "feat_info[\"missing_or_unknown\"] = feat_info[\"missing_or_unknown\"].str.replace(\"X\",\"'X'\")\n",
    "feat_info[\"missing_or_unknown\"] = feat_info[\"missing_or_unknown\"].str.replace(\"'X''X'\",\"'XX'\")\n",
    "\n",
    "# # Replace corresponding Missing Values with Nan\n",
    "for index, row in feat_info.iterrows():\n",
    "    azdias[row[\"attribute\"]] = azdias[row[\"attribute\"]].replace(eval(row[\"missing_or_unknown\"]), [np.NaN]*len(eval(row[\"missing_or_unknown\"])))\n",
    "\n"
   ]
  },
  {
   "cell_type": "markdown",
   "metadata": {},
   "source": [
    "#### Step 1.1.2: Assess Missing Data in Each Column\n",
    "\n",
    "How much missing data is present in each column? There are a few columns that are outliers in terms of the proportion of values that are missing. You will want to use matplotlib's [`hist()`](https://matplotlib.org/api/_as_gen/matplotlib.pyplot.hist.html) function to visualize the distribution of missing value counts to find these columns. Identify and document these columns. While some of these columns might have justifications for keeping or re-encoding the data, for this project you should just remove them from the dataframe. (Feel free to make remarks about these outlier columns in the discussion, however!)\n",
    "\n",
    "For the remaining features, are there any patterns in which columns have, or share, missing data?"
   ]
  },
  {
   "cell_type": "code",
   "execution_count": 5,
   "metadata": {},
   "outputs": [],
   "source": [
    "# Perform an assessment of how much missing data there is in each column of the\n",
    "# dataset.\n",
    "na_col_count = azdias.isnull().sum()"
   ]
  },
  {
   "cell_type": "code",
   "execution_count": 6,
   "metadata": {},
   "outputs": [
    {
     "data": {
      "text/plain": [
       "(891221, 85)"
      ]
     },
     "execution_count": 6,
     "metadata": {},
     "output_type": "execute_result"
    },
    {
     "data": {
      "image/png": "[encoded data removed]",
      "text/plain": [
       "<matplotlib.figure.Figure at 0x7f6bdb3dcd68>"
      ]
     },
     "metadata": {
      "needs_background": "light"
     },
     "output_type": "display_data"
    }
   ],
   "source": [
    "# Investigate patterns in the amount of missing data in each column.\n",
    "\n",
    "# Plot histogram for NaNs vs columns\n",
    "hist = na_col_count.hist()\n",
    "hist\n",
    "azdias.shape"
   ]
  },
  {
   "cell_type": "code",
   "execution_count": 7,
   "metadata": {},
   "outputs": [
    {
     "name": "stdout",
     "output_type": "stream",
     "text": [
      "Outlier columns with too many NaNs: \n",
      "\n",
      "Index(['AGER_TYP', 'GEBURTSJAHR', 'TITEL_KZ', 'ALTER_HH', 'KK_KUNDENTYP',\n",
      "       'KBA05_BAUMAX'],\n",
      "      dtype='object')\n"
     ]
    },
    {
     "data": {
      "text/plain": [
       "(891221, 79)"
      ]
     },
     "execution_count": 7,
     "metadata": {},
     "output_type": "execute_result"
    }
   ],
   "source": [
    "# Remove the outlier columns from the dataset. (You'll perform other data\n",
    "# engineering tasks such as re-encoding and imputation later.)\n",
    "\n",
    "\n",
    "# Outlier Columns\n",
    "out_columns = na_col_count[na_col_count > 200000].keys()\n",
    "print('Outlier columns with too many NaNs: \\n\\n{}'.format(out_columns))\n",
    "\n",
    "azdias.drop(out_columns,axis=1,inplace=True)\n",
    "azdias.shape"
   ]
  },
  {
   "cell_type": "markdown",
   "metadata": {},
   "source": [
    "#### Discussion 1.1.2: Assess Missing Data in Each Column\n",
    "\n",
    "Histogram plot of the NA counts for each column clearly indicates 6 columns have more than 70000 NaNs. I have excluded them from further analysis. "
   ]
  },
  {
   "cell_type": "markdown",
   "metadata": {},
   "source": [
    "#### Step 1.1.3: Assess Missing Data in Each Row\n",
    "\n",
    "Now, you'll perform a similar assessment for the rows of the dataset. How much data is missing in each row? As with the columns, you should see some groups of points that have a very different numbers of missing values. Divide the data into two subsets: one for data points that are above some threshold for missing values, and a second subset for points below that threshold.\n",
    "\n",
    "In order to know what to do with the outlier rows, we should see if the distribution of data values on columns that are not missing data (or are missing very little data) are similar or different between the two groups. Select at least five of these columns and compare the distribution of values.\n",
    "- You can use seaborn's [`countplot()`](https://seaborn.pydata.org/generated/seaborn.countplot.html) function to create a bar chart of code frequencies and matplotlib's [`subplot()`](https://matplotlib.org/api/_as_gen/matplotlib.pyplot.subplot.html) function to put bar charts for the two subplots side by side.\n",
    "- To reduce repeated code, you might want to write a function that can perform this comparison, taking as one of its arguments a column to be compared.\n",
    "\n",
    "Depending on what you observe in your comparison, this will have implications on how you approach your conclusions later in the analysis. If the distributions of non-missing features look similar between the data with many missing values and the data with few or no missing values, then we could argue that simply dropping those points from the analysis won't present a major issue. On the other hand, if the data with many missing values looks very different from the data with few or no missing values, then we should make a note on those data as special. We'll revisit these data later on. **Either way, you should continue your analysis for now using just the subset of the data with few or no missing values.**"
   ]
  },
  {
   "cell_type": "code",
   "execution_count": 8,
   "metadata": {},
   "outputs": [
    {
     "data": {
      "text/plain": [
       "<matplotlib.axes._subplots.AxesSubplot at 0x7f6bdb4bae10>"
      ]
     },
     "execution_count": 8,
     "metadata": {},
     "output_type": "execute_result"
    },
    {
     "data": {
      "image/png": "[encoded data removed]",
      "text/plain": [
       "<matplotlib.figure.Figure at 0x7f6bdba03e10>"
      ]
     },
     "metadata": {
      "needs_background": "light"
     },
     "output_type": "display_data"
    }
   ],
   "source": [
    "# How much data is missing in each row of the dataset?\n",
    "na_row_count = azdias.isnull().sum(axis = 1)\n",
    "type(na_row_count)\n",
    "hist = na_row_count.hist(bins=10)\n",
    "hist\n"
   ]
  },
  {
   "cell_type": "code",
   "execution_count": 9,
   "metadata": {},
   "outputs": [],
   "source": [
    "# Write code to divide the data into two subsets based on the number of missing\n",
    "# values in each row.\n",
    "\n",
    "cutoff = 20\n",
    "indices = na_row_count.index[na_row_count > 20].tolist()\n",
    "azdias_miss = azdias.loc[indices]\n",
    "azdias_clean = azdias.loc[set(azdias.index) - set(indices)]\n"
   ]
  },
  {
   "cell_type": "code",
   "execution_count": 10,
   "metadata": {},
   "outputs": [
    {
     "name": "stdout",
     "output_type": "stream",
     "text": [
      "24\n"
     ]
    },
    {
     "data": {
      "image/png": "[encoded data removed]",
      "text/plain": [
       "<matplotlib.figure.Figure at 0x7f6bd930d518>"
      ]
     },
     "metadata": {
      "needs_background": "light"
     },
     "output_type": "display_data"
    }
   ],
   "source": [
    "# # Compare the distribution of values for at least five columns where there are\n",
    "# # no or few missing values, between the two subsets.\n",
    "\n",
    "cols = na_col_count.index[na_col_count == 0].tolist()\n",
    "print(len(cols))\n",
    "cols = np.random.choice(cols, 6, replace= False)\n",
    "\n",
    "def cnt_plot(data,col,index):\n",
    "    plt.subplot(3, 2, index)\n",
    "    sns.countplot(azdias[col])\n",
    "\n",
    "fig = plt.figure(figsize = (15,12))\n",
    "\n",
    "for i in range(len(cols)):\n",
    "    cnt_plot(azdias,cols[i],i+1)\n",
    "    i+=1\n",
    "\n",
    "plt.show()\n"
   ]
  },
  {
   "cell_type": "code",
   "execution_count": 11,
   "metadata": {},
   "outputs": [
    {
     "data": {
      "image/png": "[encoded data removed]",
      "text/plain": [
       "<matplotlib.figure.Figure at 0x7f6bd8ef3668>"
      ]
     },
     "metadata": {
      "needs_background": "light"
     },
     "output_type": "display_data"
    }
   ],
   "source": [
    "miss_cols = na_col_count.index[na_col_count >= 0.3*azdias.shape[1]].tolist()\n",
    "miss_cols = np.random.choice(cols, 6, replace= False)\n",
    "\n",
    "fig = plt.figure(figsize = (15,12))\n",
    "\n",
    "for i in range(len(miss_cols)):\n",
    "    cnt_plot(azdias,cols[i],i+1)\n",
    "    i+=1\n",
    "\n",
    "plt.show()"
   ]
  },
  {
   "cell_type": "markdown",
   "metadata": {},
   "source": [
    "#### Discussion 1.1.3: Assess Missing Data in Each Row\n",
    "\n",
    "Around  93795 rows i.e, 10%  of the data has missing data. I have also tried finding any patterns in missing data by plotting the values counts for both kind of columns i.e., with no missing values and with missing values. However, there is no significant difference in the distribution of values in these columns. "
   ]
  },
  {
   "cell_type": "markdown",
   "metadata": {},
   "source": [
    "### Step 1.2: Select and Re-Encode Features\n",
    "\n",
    "Checking for missing data isn't the only way in which you can prepare a dataset for analysis. Since the unsupervised learning techniques to be used will only work on data that is encoded numerically, you need to make a few encoding changes or additional assumptions to be able to make progress. In addition, while almost all of the values in the dataset are encoded using numbers, not all of them represent numeric values. Check the third column of the feature summary (`feat_info`) for a summary of types of measurement.\n",
    "- For numeric and interval data, these features can be kept without changes.\n",
    "- Most of the variables in the dataset are ordinal in nature. While ordinal values may technically be non-linear in spacing, make the simplifying assumption that the ordinal variables can be treated as being interval in nature (that is, kept without any changes).\n",
    "- Special handling may be necessary for the remaining two variable types: categorical, and 'mixed'.\n",
    "\n",
    "In the first two parts of this sub-step, you will perform an investigation of the categorical and mixed-type features and make a decision on each of them, whether you will keep, drop, or re-encode each. Then, in the last part, you will create a new data frame with only the selected and engineered columns.\n",
    "\n",
    "Data wrangling is often the trickiest part of the data analysis process, and there's a lot of it to be done here. But stick with it: once you're done with this step, you'll be ready to get to the machine learning parts of the project!"
   ]
  },
  {
   "cell_type": "code",
   "execution_count": 12,
   "metadata": {},
   "outputs": [
    {
     "data": {
      "text/plain": [
       "ordinal        49\n",
       "categorical    21\n",
       "numeric         7\n",
       "mixed           7\n",
       "interval        1\n",
       "Name: type, dtype: int64"
      ]
     },
     "execution_count": 12,
     "metadata": {},
     "output_type": "execute_result"
    }
   ],
   "source": [
    "# How many features are there of each data type?\n",
    "\n",
    "feat_info['type'].value_counts()"
   ]
  },
  {
   "cell_type": "markdown",
   "metadata": {},
   "source": [
    "#### Step 1.2.1: Re-Encode Categorical Features\n",
    "\n",
    "For categorical data, you would ordinarily need to encode the levels as dummy variables. Depending on the number of categories, perform one of the following:\n",
    "- For binary (two-level) categoricals that take numeric values, you can keep them without needing to do anything.\n",
    "- There is one binary variable that takes on non-numeric values. For this one, you need to re-encode the values as numbers or create a dummy variable.\n",
    "- For multi-level categoricals (three or more values), you can choose to encode the values using multiple dummy variables (e.g. via [OneHotEncoder](http://scikit-learn.org/stable/modules/generated/sklearn.preprocessing.OneHotEncoder.html)), or (to keep things straightforward) just drop them from the analysis. As always, document your choices in the Discussion section."
   ]
  },
  {
   "cell_type": "code",
   "execution_count": 13,
   "metadata": {},
   "outputs": [],
   "source": [
    "# Assess categorical variables: which are binary, which are multi-level, and\n",
    "# which one needs to be re-encoded?\n",
    "categories = feat_info[feat_info['type'] == 'categorical']['attribute']\n",
    "\n",
    "binary = []\n",
    "multi = []\n",
    "for cat in categories:\n",
    "    try:\n",
    "        if(len(azdias_clean[cat].unique()) == 2):\n",
    "           binary.append(cat)\n",
    "        else:\n",
    "           multi.append(cat)\n",
    "    except:\n",
    "        pass"
   ]
  },
  {
   "cell_type": "code",
   "execution_count": 14,
   "metadata": {},
   "outputs": [],
   "source": [
    "# Re-encode categorical variable(s) to be kept in the analysis.\n",
    "binary\n",
    "azdias_clean[binary]\n",
    "\n",
    "# Convert character to numberic\n",
    "azdias_clean['OST_WEST_KZ'] = azdias_clean['OST_WEST_KZ'].map({'W':0,'O':1})\n",
    "\n",
    "# One-hot-encode categories\n",
    "azdias_clean = pd.get_dummies(azdias_clean, columns= multi)\n"
   ]
  },
  {
   "cell_type": "markdown",
   "metadata": {},
   "source": [
    "#### Discussion 1.2.1: Re-Encode Categorical Features\n",
    "\n",
    "I have kept all the binary variables. Just had to map 'OST_WEST_KZ' feature to numeric. I have also decided to onehot encode the rest of the categories for the prelimanary analysis."
   ]
  },
  {
   "cell_type": "markdown",
   "metadata": {},
   "source": [
    "#### Step 1.2.2: Engineer Mixed-Type Features\n",
    "\n",
    "There are a handful of features that are marked as \"mixed\" in the feature summary that require special treatment in order to be included in the analysis. There are two in particular that deserve attention; the handling of the rest are up to your own choices:\n",
    "- \"PRAEGENDE_JUGENDJAHRE\" combines information on three dimensions: generation by decade, movement (mainstream vs. avantgarde), and nation (east vs. west). While there aren't enough levels to disentangle east from west, you should create two new variables to capture the other two dimensions: an interval-type variable for decade, and a binary variable for movement.\n",
    "- \"CAMEO_INTL_2015\" combines information on two axes: wealth and life stage. Break up the two-digit codes by their 'tens'-place and 'ones'-place digits into two new ordinal variables (which, for the purposes of this project, is equivalent to just treating them as their raw numeric values).\n",
    "- If you decide to keep or engineer new features around the other mixed-type features, make sure you note your steps in the Discussion section.\n",
    "\n",
    "Be sure to check `Data_Dictionary.md` for the details needed to finish these tasks."
   ]
  },
  {
   "cell_type": "code",
   "execution_count": 15,
   "metadata": {},
   "outputs": [
    {
     "data": {
      "text/plain": [
       "(797426, 197)"
      ]
     },
     "execution_count": 15,
     "metadata": {},
     "output_type": "execute_result"
    }
   ],
   "source": [
    "# Investigate \"PRAEGENDE_JUGENDJAHRE\" and engineer two new variables.\n",
    "\n",
    "# azdias_clean['PRAEGENDE_JUGENDJAHRE'].unique()\n",
    "\n",
    "decades = {1:45,\n",
    "           2:45,\n",
    "           3:55,\n",
    "           4:55,\n",
    "           5:65,\n",
    "           6:65,\n",
    "           7:65,\n",
    "           8:75,\n",
    "           9:75,\n",
    "           10:85,\n",
    "           11:85,\n",
    "           12:85,\n",
    "           13:85,\n",
    "           14:95,\n",
    "           15:95\n",
    "          }\n",
    "\n",
    "\n",
    "movement = {1:0,\n",
    "            2:1,\n",
    "            3:0,\n",
    "            4:1,\n",
    "            5:0,\n",
    "            6:1,\n",
    "            7:1,\n",
    "            8:0,\n",
    "            9:1,\n",
    "            10:0,\n",
    "            11:1,\n",
    "            12:0,\n",
    "            13:1,\n",
    "            14:0,\n",
    "            15:1\n",
    "           }\n",
    "\n",
    "\n",
    "azdias_clean['movement'] = azdias_clean['PRAEGENDE_JUGENDJAHRE'].map(movement)\n",
    "azdias_clean['decades'] = azdias_clean['PRAEGENDE_JUGENDJAHRE'].map(decades)\n",
    "azdias_clean.shape"
   ]
  },
  {
   "cell_type": "code",
   "execution_count": 16,
   "metadata": {},
   "outputs": [],
   "source": [
    "# Investigate \"CAMEO_INTL_2015\" and engineer two new variables.\n",
    "\n",
    "azdias_clean['CAMEO_INTL_2015'].unique()\n",
    "\n",
    "def get_tens(n):\n",
    "    try:\n",
    "        n = int(n)\n",
    "        return (n // 10)%10\n",
    "    except:\n",
    "        return None\n",
    "    \n",
    "def get_ones(n):\n",
    "    try:\n",
    "        n = int(n)\n",
    "        return n%10\n",
    "    except:\n",
    "        return None\n",
    "\n",
    "azdias_clean['wealth'] = azdias_clean['CAMEO_INTL_2015'].map(get_tens)\n",
    "azdias_clean['life_stage'] = azdias_clean['CAMEO_INTL_2015'].map(get_ones)"
   ]
  },
  {
   "cell_type": "markdown",
   "metadata": {},
   "source": [
    "#### Discussion 1.2.2: Engineer Mixed-Type Features\n",
    "Engineered 'CAMEO_INTL_2015' and 'PRAEGENDE_JUGENDJAHRE' to create new numerical features. Ignored other mixed variables for the initial analysis.\n"
   ]
  },
  {
   "cell_type": "markdown",
   "metadata": {},
   "source": [
    "#### Step 1.2.3: Complete Feature Selection\n",
    "\n",
    "In order to finish this step up, you need to make sure that your data frame now only has the columns that you want to keep. To summarize, the dataframe should consist of the following:\n",
    "- All numeric, interval, and ordinal type columns from the original dataset.\n",
    "- Binary categorical features (all numerically-encoded).\n",
    "- Engineered features from other multi-level categorical features and mixed features.\n",
    "\n",
    "Make sure that for any new columns that you have engineered, that you've excluded the original columns from the final dataset. Otherwise, their values will interfere with the analysis later on the project. For example, you should not keep \"PRAEGENDE_JUGENDJAHRE\", since its values won't be useful for the algorithm: only the values derived from it in the engineered features you created should be retained. As a reminder, your data should only be from **the subset with few or no missing values**."
   ]
  },
  {
   "cell_type": "code",
   "execution_count": 17,
   "metadata": {},
   "outputs": [],
   "source": [
    "# If there are other re-engineering tasks you need to perform, make sure you\n",
    "# take care of them here. (Dealing with missing data will come in step 2.1.)\n",
    "\n"
   ]
  },
  {
   "cell_type": "code",
   "execution_count": 18,
   "metadata": {},
   "outputs": [
    {
     "data": {
      "text/plain": [
       "(797426, 193)"
      ]
     },
     "execution_count": 18,
     "metadata": {},
     "output_type": "execute_result"
    }
   ],
   "source": [
    "# Do whatever you need to in order to ensure that the dataframe only contains\n",
    "# the columns that should be passed to the algorithm functions.\n",
    "\n",
    "mixed = feat_info[feat_info['type'] == 'mixed']['attribute']\n",
    "mixed\n",
    "\n",
    "azdias_clean.drop(mixed, axis=1, inplace=True, errors = 'ignore')\n",
    "headers = list(azdias_clean)\n",
    "azdias_clean.shape"
   ]
  },
  {
   "cell_type": "code",
   "execution_count": 19,
   "metadata": {},
   "outputs": [
    {
     "data": {
      "text/plain": [
       "7"
      ]
     },
     "execution_count": 19,
     "metadata": {},
     "output_type": "execute_result"
    }
   ],
   "source": [
    "len(mixed)"
   ]
  },
  {
   "cell_type": "markdown",
   "metadata": {},
   "source": [
    "### Step 1.3: Create a Cleaning Function\n",
    "\n",
    "Even though you've finished cleaning up the general population demographics data, it's important to look ahead to the future and realize that you'll need to perform the same cleaning steps on the customer demographics data. In this substep, complete the function below to execute the main feature selection, encoding, and re-engineering steps you performed above. Then, when it comes to looking at the customer data in Step 3, you can just run this function on that DataFrame to get the trimmed dataset in a single step."
   ]
  },
  {
   "cell_type": "code",
   "execution_count": 20,
   "metadata": {},
   "outputs": [],
   "source": [
    "def clean_data(df):\n",
    "    \"\"\"\n",
    "    Perform feature trimming, re-encoding, and engineering for demographics\n",
    "    data\n",
    "    \n",
    "    INPUT: Demographics DataFrame\n",
    "    OUTPUT: Trimmed and cleaned demographics DataFrame\n",
    "    \"\"\"\n",
    "    \n",
    "    print('Initial shape: {} \\n '.format(df.shape))\n",
    "    \n",
    "    # Put in code here to execute all main cleaning steps:\n",
    "    # convert missing value codes into NaNs, ...\n",
    "    for index, row in feat_info.iterrows():\n",
    "        df[row[\"attribute\"]] = df[row[\"attribute\"]].replace(eval(row[\"missing_or_unknown\"]), [np.NaN]*len(eval(row[\"missing_or_unknown\"])))\n",
    "    \n",
    "    # Drop columns from previous dataset\n",
    "    df.drop(out_columns,axis=1,inplace=True)\n",
    "    \n",
    "    print('After outliers shape: {} \\n '.format(df.shape))\n",
    "\n",
    "\n",
    "    # select, re-encode, and engineer column values.\n",
    "    \n",
    "    df['OST_WEST_KZ'] = df['OST_WEST_KZ'].map({'W':0,'O':1})\n",
    "    df = pd.get_dummies(df, columns= multi)\n",
    "    \n",
    "    \n",
    "    df['movement'] = df['PRAEGENDE_JUGENDJAHRE'].map(movement)\n",
    "    df['decades'] = df['PRAEGENDE_JUGENDJAHRE'].map(decades)\n",
    "    \n",
    "    df['wealth'] = df['CAMEO_INTL_2015'].map(get_tens)\n",
    "    df['life_stage'] = df['CAMEO_INTL_2015'].map(get_ones)\n",
    "    \n",
    "    df.drop(mixed, axis=1, inplace=True, errors = 'ignore')\n",
    "    # Return the cleaned dataframe.\n",
    "    \n",
    "    print('Final shape: {} \\n '.format(df.shape))\n",
    "\n",
    "    return df\n",
    "    "
   ]
  },
  {
   "cell_type": "code",
   "execution_count": null,
   "metadata": {},
   "outputs": [],
   "source": []
  },
  {
   "cell_type": "code",
   "execution_count": null,
   "metadata": {},
   "outputs": [],
   "source": []
  },
  {
   "cell_type": "markdown",
   "metadata": {},
   "source": [
    "## Step 2: Feature Transformation\n",
    "\n",
    "### Step 2.1: Apply Feature Scaling\n",
    "\n",
    "Before we apply dimensionality reduction techniques to the data, we need to perform feature scaling so that the principal component vectors are not influenced by the natural differences in scale for features. Starting from this part of the project, you'll want to keep an eye on the [API reference page for sklearn](http://scikit-learn.org/stable/modules/classes.html) to help you navigate to all of the classes and functions that you'll need. In this substep, you'll need to check the following:\n",
    "\n",
    "- sklearn requires that data not have missing values in order for its estimators to work properly. So, before applying the scaler to your data, make sure that you've cleaned the DataFrame of the remaining missing values. This can be as simple as just removing all data points with missing data, or applying an [Imputer](http://scikit-learn.org/stable/modules/generated/sklearn.preprocessing.Imputer.html) to replace all missing values. You might also try a more complicated procedure where you temporarily remove missing values in order to compute the scaling parameters before re-introducing those missing values and applying imputation. Think about how much missing data you have and what possible effects each approach might have on your analysis, and justify your decision in the discussion section below.\n",
    "- For the actual scaling function, a [StandardScaler](http://scikit-learn.org/stable/modules/generated/sklearn.preprocessing.StandardScaler.html) instance is suggested, scaling each feature to mean 0 and standard deviation 1.\n",
    "- For these classes, you can make use of the `.fit_transform()` method to both fit a procedure to the data as well as apply the transformation to the data at the same time. Don't forget to keep the fit sklearn objects handy, since you'll be applying them to the customer demographics data towards the end of the project."
   ]
  },
  {
   "cell_type": "code",
   "execution_count": 21,
   "metadata": {},
   "outputs": [],
   "source": [
    "# If you've not yet cleaned the dataset of all NaN values, then investigate and\n",
    "# do that now.\n",
    "from sklearn.preprocessing import Imputer\n",
    "\n",
    "imputer = Imputer(missing_values='NaN',strategy='mean',axis=0)  \n",
    "\n",
    "azdias_clean = imputer.fit_transform(azdias_clean)"
   ]
  },
  {
   "cell_type": "code",
   "execution_count": 22,
   "metadata": {},
   "outputs": [],
   "source": [
    "# Apply feature scaling to the general population demographics data.\n",
    "from sklearn.preprocessing import StandardScaler\n",
    "scaler = StandardScaler()\n",
    "\n",
    "azdias_clean = scaler.fit_transform(azdias_clean)"
   ]
  },
  {
   "cell_type": "code",
   "execution_count": null,
   "metadata": {},
   "outputs": [],
   "source": []
  },
  {
   "cell_type": "markdown",
   "metadata": {},
   "source": [
    "### Discussion 2.1: Apply Feature Scaling\n",
    "\n",
    "I have used imputed the missing values by the mean of respective columns. Also, I have scaled each feature to a mean of 0 and standard deviation of 1. \n"
   ]
  },
  {
   "cell_type": "markdown",
   "metadata": {},
   "source": [
    "### Step 2.2: Perform Dimensionality Reduction\n",
    "\n",
    "On your scaled data, you are now ready to apply dimensionality reduction techniques.\n",
    "\n",
    "- Use sklearn's [PCA](http://scikit-learn.org/stable/modules/generated/sklearn.decomposition.PCA.html) class to apply principal component analysis on the data, thus finding the vectors of maximal variance in the data. To start, you should not set any parameters (so all components are computed) or set a number of components that is at least half the number of features (so there's enough features to see the general trend in variability).\n",
    "- Check out the ratio of variance explained by each principal component as well as the cumulative variance explained. Try plotting the cumulative or sequential values using matplotlib's [`plot()`](https://matplotlib.org/api/_as_gen/matplotlib.pyplot.plot.html) function. Based on what you find, select a value for the number of transformed features you'll retain for the clustering part of the project.\n",
    "- Once you've made a choice for the number of components to keep, make sure you re-fit a PCA instance to perform the decided-on transformation."
   ]
  },
  {
   "cell_type": "code",
   "execution_count": 23,
   "metadata": {},
   "outputs": [
    {
     "data": {
      "text/plain": [
       "PCA(copy=True, iterated_power='auto', n_components=None, random_state=None,\n",
       "  svd_solver='auto', tol=0.0, whiten=False)"
      ]
     },
     "execution_count": 23,
     "metadata": {},
     "output_type": "execute_result"
    }
   ],
   "source": [
    "# Apply PCA to the data.\n",
    "from sklearn.decomposition import PCA\n",
    "pca = PCA()\n",
    "pca.fit(azdias_clean)\n"
   ]
  },
  {
   "cell_type": "code",
   "execution_count": 24,
   "metadata": {},
   "outputs": [
    {
     "data": {
      "image/png": "[encoded data removed]",
      "text/plain": [
       "<matplotlib.figure.Figure at 0x7f6bd4709908>"
      ]
     },
     "metadata": {
      "needs_background": "light"
     },
     "output_type": "display_data"
    }
   ],
   "source": [
    "# Investigate the variance accounted for by each principal component.\n",
    "# pca.explained_variance_ratio_\n",
    "plt.plot(np.cumsum(pca.explained_variance_ratio_))\n",
    "plt.xlabel('number of components')\n",
    "plt.ylabel('cumulative explained variance')\n",
    "plt.show()"
   ]
  },
  {
   "cell_type": "code",
   "execution_count": 25,
   "metadata": {},
   "outputs": [
    {
     "data": {
      "image/png": "[encoded data removed]",
      "text/plain": [
       "<matplotlib.figure.Figure at 0x7f6bd7557160>"
      ]
     },
     "metadata": {
      "needs_background": "light"
     },
     "output_type": "display_data"
    }
   ],
   "source": [
    "# Re-apply PCA to the data while selecting for number of components to retain.\n",
    "\n",
    "pca = PCA(n_components=100)\n",
    "pca.fit(azdias_clean)\n",
    "plt.plot(np.cumsum(pca.explained_variance_ratio_))\n",
    "plt.xlabel('number of components')\n",
    "plt.ylabel('cumulative explained variance')\n",
    "plt.show()\n"
   ]
  },
  {
   "cell_type": "markdown",
   "metadata": {},
   "source": [
    "### Discussion 2.2: Perform Dimensionality Reduction\n",
    "\n",
    "The cumilative explained variance showed that half of the featues i.e., 100 accounted for almost 90% of the variance of the data. So, I ran the pca again to incorporate 100 components. "
   ]
  },
  {
   "cell_type": "markdown",
   "metadata": {},
   "source": [
    "### Step 2.3: Interpret Principal Components\n",
    "\n",
    "Now that we have our transformed principal components, it's a nice idea to check out the weight of each variable on the first few components to see if they can be interpreted in some fashion.\n",
    "\n",
    "As a reminder, each principal component is a unit vector that points in the direction of highest variance (after accounting for the variance captured by earlier principal components). The further a weight is from zero, the more the principal component is in the direction of the corresponding feature. If two features have large weights of the same sign (both positive or both negative), then increases in one tend expect to be associated with increases in the other. To contrast, features with different signs can be expected to show a negative correlation: increases in one variable should result in a decrease in the other.\n",
    "\n",
    "- To investigate the features, you should map each weight to their corresponding feature name, then sort the features according to weight. The most interesting features for each principal component, then, will be those at the beginning and end of the sorted list. Use the data dictionary document to help you understand these most prominent features, their relationships, and what a positive or negative value on the principal component might indicate.\n",
    "- You should investigate and interpret feature associations from the first three principal components in this substep. To help facilitate this, you should write a function that you can call at any time to print the sorted list of feature weights, for the *i*-th principal component. This might come in handy in the next step of the project, when you interpret the tendencies of the discovered clusters."
   ]
  },
  {
   "cell_type": "code",
   "execution_count": 26,
   "metadata": {},
   "outputs": [
    {
     "name": "stdout",
     "output_type": "stream",
     "text": [
      "Features with Most +ve Influence: \n",
      " [('LP_STATUS_GROB_1.0', 0.19670471328823769), ('HH_EINKOMMEN_SCORE', 0.18683301258926974), ('wealth', 0.18672400747027909), ('PLZ8_ANTG3', 0.18254753206099275), ('PLZ8_ANTG4', 0.17666047852970995)] \n",
      "\n",
      "Features with Most -ve Influence: \n",
      " [('KBA05_GBZ', -0.18226499798376408), ('PLZ8_ANTG1', -0.18320076252460579), ('FINANZ_MINIMALIST', -0.19197832338118195), ('KBA05_ANTG1', -0.19223696505407781), ('MOBI_REGIO', -0.20523046783053805)]\n"
     ]
    }
   ],
   "source": [
    "# Map weights for the first principal component to corresponding feature names\n",
    "# and then print the linked values, sorted by weight.\n",
    "# HINT: Try defining a function here or in a new cell that you can reuse in the\n",
    "# other cells.\n",
    "weights = dict(zip(headers,pca.components_[0]))\n",
    "weights = sorted(weights.items(), key=lambda x: x[1],reverse=True)\n",
    "\n",
    "def getWeights(comp):\n",
    "    weights = dict(zip(headers,pca.components_[comp]))\n",
    "    weights = sorted(weights.items(), key=lambda x: x[1],reverse=True)\n",
    "    top = weights[:5]\n",
    "    bottom = weights[-5:]\n",
    "    return (top, bottom)\n",
    "\n",
    "top, bottom  = getWeights(0)\n",
    "print('Features with Most +ve Influence: \\n {} \\n'.format(top))\n",
    "print('Features with Most -ve Influence: \\n {}'.format(bottom))"
   ]
  },
  {
   "cell_type": "code",
   "execution_count": 27,
   "metadata": {},
   "outputs": [
    {
     "name": "stdout",
     "output_type": "stream",
     "text": [
      "Features with Most +ve Influence: \n",
      " [('ALTERSKATEGORIE_GROB', 0.23295068684337078), ('FINANZ_VORSORGER', 0.21917721592332937), ('ZABEOTYP_3', 0.20012980463148003), ('SEMIO_ERL', 0.17990363246023486), ('SEMIO_LUST', 0.16366767157498127)] \n",
      "\n",
      "Features with Most -ve Influence: \n",
      " [('SEMIO_TRADV', -0.2081988773909772), ('SEMIO_REL', -0.21410445599732386), ('FINANZ_UNAUFFAELLIGER', -0.21554546461617119), ('FINANZ_SPARER', -0.22679672864067235), ('decades', -0.23782778602244609)]\n"
     ]
    }
   ],
   "source": [
    "# Map weights for the second principal component to corresponding feature names\n",
    "# and then print the linked values, sorted by weight.\n",
    "\n",
    "top, bottom  = getWeights(1)\n",
    "print('Features with Most +ve Influence: \\n {} \\n'.format(top))\n",
    "print('Features with Most -ve Influence: \\n {}'.format(bottom))"
   ]
  },
  {
   "cell_type": "code",
   "execution_count": 28,
   "metadata": {},
   "outputs": [
    {
     "name": "stdout",
     "output_type": "stream",
     "text": [
      "Features with Most +ve Influence: \n",
      " [('SEMIO_VERT', 0.31904301842462429), ('SEMIO_FAM', 0.26098336140479178), ('SEMIO_SOZ', 0.25738074835152697), ('SEMIO_KULT', 0.25199911435255351), ('FINANZTYP_5', 0.13452393604383792)] \n",
      "\n",
      "Features with Most -ve Influence: \n",
      " [('SEMIO_ERL', -0.20858170782976926), ('SEMIO_KRIT', -0.26706004042663928), ('SEMIO_DOM', -0.2840734159813974), ('SEMIO_KAEM', -0.31572050957573256), ('ANREDE_KZ', -0.34562453712509517)]\n"
     ]
    }
   ],
   "source": [
    "# Map weights for the third principal component to corresponding feature names\n",
    "# and then print the linked values, sorted by weight.\n",
    "\n",
    "top, bottom  = getWeights(2)\n",
    "print('Features with Most +ve Influence: \\n {} \\n'.format(top))\n",
    "print('Features with Most -ve Influence: \\n {}'.format(bottom))"
   ]
  },
  {
   "cell_type": "markdown",
   "metadata": {},
   "source": [
    "### Discussion 2.3: Interpret Principal Components\n",
    "\n",
    "First Principal Component captures the income / wealth attributes of the individuals. All the positive weights correlate to wealthier individuals and vice-versa for the negative weights. \n",
    "\n",
    "Second Principal Component captures the spending nature of the individuals. Individuals with higher spending mentality seemed to be under the higher weight category(Lust / Event-oriented). Religious / Traditional kind of attributes appears on the other end with negative weights.\n",
    "\n",
    "Third Principal Component captures the personality traits of individials. All the positive weights correspond to individuals with high care for family / society . Not risk takers. The other end of the third component have individuals who are fighters by nature. \n",
    "\n"
   ]
  },
  {
   "cell_type": "markdown",
   "metadata": {},
   "source": [
    "## Step 3: Clustering\n",
    "\n",
    "### Step 3.1: Apply Clustering to General Population\n",
    "\n",
    "You've assessed and cleaned the demographics data, then scaled and transformed them. Now, it's time to see how the data clusters in the principal components space. In this substep, you will apply k-means clustering to the dataset and use the average within-cluster distances from each point to their assigned cluster's centroid to decide on a number of clusters to keep.\n",
    "\n",
    "- Use sklearn's [KMeans](http://scikit-learn.org/stable/modules/generated/sklearn.cluster.KMeans.html#sklearn.cluster.KMeans) class to perform k-means clustering on the PCA-transformed data.\n",
    "- Then, compute the average difference from each point to its assigned cluster's center. **Hint**: The KMeans object's `.score()` method might be useful here, but note that in sklearn, scores tend to be defined so that larger is better. Try applying it to a small, toy dataset, or use an internet search to help your understanding.\n",
    "- Perform the above two steps for a number of different cluster counts. You can then see how the average distance decreases with an increasing number of clusters. However, each additional cluster provides a smaller net benefit. Use this fact to select a final number of clusters in which to group the data. **Warning**: because of the large size of the dataset, it can take a long time for the algorithm to resolve. The more clusters to fit, the longer the algorithm will take. You should test for cluster counts through at least 10 clusters to get the full picture, but you shouldn't need to test for a number of clusters above about 30.\n",
    "- Once you've selected a final number of clusters to use, re-fit a KMeans instance to perform the clustering operation. Make sure that you also obtain the cluster assignments for the general demographics data, since you'll be using them in the final Step 3.3."
   ]
  },
  {
   "cell_type": "code",
   "execution_count": 29,
   "metadata": {},
   "outputs": [],
   "source": [
    "from sklearn.cluster import KMeans\n",
    "\n",
    "# Transform data\n",
    "pca_data = pca.transform(azdias_clean)\n",
    "\n",
    "# compute the average within-cluster distances.\n",
    "def getScore(k,data):\n",
    "    kmeans = KMeans(k)\n",
    "    score = abs(kmeans.fit(data).score(data))\n",
    "    return score\n",
    "\n",
    "k = list(range(15,25,1))\n",
    "scores = []\n",
    "\n",
    "# Over a number of different cluster counts...\n",
    "for i in k:\n",
    "    scores.append(getScore(i,pca_data))\n",
    "\n"
   ]
  },
  {
   "cell_type": "code",
   "execution_count": 29,
   "metadata": {},
   "outputs": [
    {
     "name": "stdout",
     "output_type": "stream",
     "text": [
      "[105158025.5938717, 104796567.79038097, 104368747.75402915, 103276979.23846972, 102959670.02752389, 101966290.19993739, 101615361.6982242, 100789323.9035008, 100379370.02667974, 100064993.45667326]\n"
     ]
    },
    {
     "data": {
      "image/png": "[encoded data removed]",
      "text/plain": [
       "<matplotlib.figure.Figure at 0x7f3f435fe2e8>"
      ]
     },
     "metadata": {
      "needs_background": "light"
     },
     "output_type": "display_data"
    }
   ],
   "source": [
    "# Investigate the change in within-cluster distance across number of clusters.\n",
    "# HINT: Use matplotlib's plot function to visualize this relationship.\n",
    "\n",
    "plt.plot(k, scores, linestyle='--', marker='o', color='b');\n",
    "plt.xlabel('K');\n",
    "plt.ylabel('SSE');\n",
    "plt.title('SSE vs. K');\n",
    "print(scores)\n"
   ]
  },
  {
   "cell_type": "code",
   "execution_count": 30,
   "metadata": {},
   "outputs": [
    {
     "data": {
      "text/plain": [
       "array([ 9,  1, 12, ...,  1,  0, 14], dtype=int32)"
      ]
     },
     "execution_count": 30,
     "metadata": {},
     "output_type": "execute_result"
    }
   ],
   "source": [
    "# Re-fit the k-means model with the selected number of clusters and obtain\n",
    "# cluster predictions for the general population demographics data.\n",
    "kmeans = KMeans(20).fit(pca_data)\n",
    "clusters = kmeans.labels_\n",
    "clusters\n"
   ]
  },
  {
   "cell_type": "markdown",
   "metadata": {},
   "source": [
    "### Discussion 3.1: Apply Clustering to General Population\n",
    "\n",
    "I have tried running the grid on a couple of different cluster ranges between 10 and 35 and noticed that the rate of fall in error decreased after 20 clusters. Hence chose to go ahead by clustering the data into 20 groups.\n"
   ]
  },
  {
   "cell_type": "markdown",
   "metadata": {},
   "source": [
    "### Step 3.2: Apply All Steps to the Customer Data\n",
    "\n",
    "Now that you have clusters and cluster centers for the general population, it's time to see how the customer data maps on to those clusters. Take care to not confuse this for re-fitting all of the models to the customer data. Instead, you're going to use the fits from the general population to clean, transform, and cluster the customer data. In the last step of the project, you will interpret how the general population fits apply to the customer data.\n",
    "\n",
    "- Don't forget when loading in the customers data, that it is semicolon (`;`) delimited.\n",
    "- Apply the same feature wrangling, selection, and engineering steps to the customer demographics using the `clean_data()` function you created earlier. (You can assume that the customer demographics data has similar meaning behind missing data patterns as the general demographics data.)\n",
    "- Use the sklearn objects from the general demographics data, and apply their transformations to the customers data. That is, you should not be using a `.fit()` or `.fit_transform()` method to re-fit the old objects, nor should you be creating new sklearn objects! Carry the data through the feature scaling, PCA, and clustering steps, obtaining cluster assignments for all of the data in the customer demographics data."
   ]
  },
  {
   "cell_type": "code",
   "execution_count": 31,
   "metadata": {},
   "outputs": [],
   "source": [
    "# Load in the customer demographics data.\n",
    "customers = pd.read_csv(\"Udacity_CUSTOMERS_Subset.csv\",sep = \";\")"
   ]
  },
  {
   "cell_type": "code",
   "execution_count": 32,
   "metadata": {},
   "outputs": [
    {
     "name": "stdout",
     "output_type": "stream",
     "text": [
      "Initial shape: (191652, 85) \n",
      " \n",
      "After outliers shape: (191652, 79) \n",
      " \n",
      "Final shape: (191652, 192) \n",
      " \n"
     ]
    }
   ],
   "source": [
    "# Apply preprocessing, feature transformation, and clustering from the general\n",
    "# demographics onto the customer data, obtaining cluster predictions for the\n",
    "# customer demographics data.\n",
    "\n",
    "customers_clean = clean_data(customers)\n",
    "\n",
    "# customers_clean.shape\n",
    "## Find missing column in customer dataset\n",
    "# list(set(headers) - set(cust_headers))\n",
    "\n",
    "# Define Missing Column\n",
    "customers_clean[\"GEBAEUDETYP_5.0\"] = 0\n",
    "\n",
    "customers_clean = imputer.fit_transform(customers_clean)\n",
    "customers_clean = scaler.fit_transform(customers_clean)\n",
    "pca_customers = pca.transform(customers_clean)\n",
    "\n",
    "customer_clusters = kmeans.predict(pca_customers)"
   ]
  },
  {
   "cell_type": "code",
   "execution_count": 99,
   "metadata": {},
   "outputs": [],
   "source": [
    "\n",
    "pop = pd.DataFrame({'clusters':clusters})\n",
    "pop['clusters'] = pop['clusters'].astype('category')\n",
    "\n",
    "cus = pd.DataFrame({'clusters':customer_clusters})\n",
    "cus['clusters'] = cus['clusters'].astype('category')\n"
   ]
  },
  {
   "cell_type": "code",
   "execution_count": 135,
   "metadata": {},
   "outputs": [
    {
     "data": {
      "text/plain": [
       "{1: 3.5944513558274624,\n",
       " 2: 1.8357873612134634,\n",
       " 4: 1.0925474995073641,\n",
       " 14: 0.7918354219666317,\n",
       " 13: 1.3939342542585567,\n",
       " 11: 0.7114957560293973,\n",
       " 8: 1.5660178990127993,\n",
       " 18: 1.0041176572235797,\n",
       " 15: 0.70205452678868441,\n",
       " 3: 0.56219579602495184,\n",
       " 9: 0.23139661484235299,\n",
       " 19: 1.1750967817449627,\n",
       " 12: 0.9481906249164509,\n",
       " 0: 0.18062612446929963,\n",
       " 7: 1.7935484223248936,\n",
       " 5: 0.16799345202613714,\n",
       " 6: 0.35503589659371798,\n",
       " 10: 0.44420825284308291}"
      ]
     },
     "execution_count": 135,
     "metadata": {},
     "output_type": "execute_result"
    }
   ],
   "source": [
    "# Get cluster count\n",
    "pop_dict = dict(pop['clusters'].value_counts())\n",
    "cus_dict = dict(cus['clusters'].value_counts())\n",
    "\n",
    "# Get proportion\n",
    "pop_dict_prop = {k: v*100/sum(pop_dict.values()) for k, v in pop_dict.items()}\n",
    "cus_dict_prop = {k: v*100/sum(cus_dict.values()) for k, v in cus_dict.items()}\n",
    "\n",
    "# Get customers to gereral population ratio\n",
    "ratio_dict = {k: cus_dict_prop[k]/pop_dict_prop[k] for k,v in cus_dict_prop.items()}\n"
   ]
  },
  {
   "cell_type": "markdown",
   "metadata": {},
   "source": [
    "### Step 3.3: Compare Customer Data to Demographics Data\n",
    "\n",
    "At this point, you have clustered data based on demographics of the general population of Germany, and seen how the customer data for a mail-order sales company maps onto those demographic clusters. In this final substep, you will compare the two cluster distributions to see where the strongest customer base for the company is.\n",
    "\n",
    "Consider the proportion of persons in each cluster for the general population, and the proportions for the customers. If we think the company's customer base to be universal, then the cluster assignment proportions should be fairly similar between the two. If there are only particular segments of the population that are interested in the company's products, then we should see a mismatch from one to the other. If there is a higher proportion of persons in a cluster for the customer data compared to the general population (e.g. 5% of persons are assigned to a cluster for the general population, but 15% of the customer data is closest to that cluster's centroid) then that suggests the people in that cluster to be a target audience for the company. On the other hand, the proportion of the data in a cluster being larger in the general population than the customer data (e.g. only 2% of customers closest to a population centroid that captures 6% of the data) suggests that group of persons to be outside of the target demographics.\n",
    "\n",
    "Take a look at the following points in this step:\n",
    "\n",
    "- Compute the proportion of data points in each cluster for the general population and the customer data. Visualizations will be useful here: both for the individual dataset proportions, but also to visualize the ratios in cluster representation between groups. Seaborn's [`countplot()`](https://seaborn.pydata.org/generated/seaborn.countplot.html) or [`barplot()`](https://seaborn.pydata.org/generated/seaborn.barplot.html) function could be handy.\n",
    "  - Recall the analysis you performed in step 1.1.3 of the project, where you separated out certain data points from the dataset if they had more than a specified threshold of missing values. If you found that this group was qualitatively different from the main bulk of the data, you should treat this as an additional data cluster in this analysis. Make sure that you account for the number of data points in this subset, for both the general population and customer datasets, when making your computations!\n",
    "- Which cluster or clusters are overrepresented in the customer dataset compared to the general population? Select at least one such cluster and infer what kind of people might be represented by that cluster. Use the principal component interpretations from step 2.3 or look at additional components to help you make this inference. Alternatively, you can use the `.inverse_transform()` method of the PCA and StandardScaler objects to transform centroids back to the original data space and interpret the retrieved values directly.\n",
    "- Perform a similar investigation for the underrepresented clusters. Which cluster or clusters are underrepresented in the customer dataset compared to the general population, and what kinds of people are typified by these clusters?"
   ]
  },
  {
   "cell_type": "code",
   "execution_count": 127,
   "metadata": {},
   "outputs": [
    {
     "data": {
      "image/png": "[encoded data removed]",
      "text/plain": [
       "<matplotlib.figure.Figure at 0x7f6bd317ce80>"
      ]
     },
     "metadata": {
      "needs_background": "light"
     },
     "output_type": "display_data"
    }
   ],
   "source": [
    "# Compare the proportion of data in each cluster for the customer data to the\n",
    "# proportion of data in each cluster for the general population.\n",
    "\n",
    "fig = plt.figure(figsize = (15,7))\n",
    "plt.subplot(1, 2, 1)\n",
    "plt.title('Customer Clusters')\n",
    "sns.barplot(x=list(cus_dict_prop.keys()), y=list(cus_dict_prop.values()))\n",
    "plt.subplot(1, 2, 2)\n",
    "plt.title('Population Clusters')\n",
    "sns.barplot(x=list(pop_dict_prop.keys()), y=list(pop_dict_prop.values()))\n",
    "\n",
    "plt.show()\n",
    "\n",
    "# a = sns.barplot(x=clusters, y=clusters, estimator=lambda x: len(x) / len(df) * 100)\n"
   ]
  },
  {
   "cell_type": "code",
   "execution_count": 134,
   "metadata": {},
   "outputs": [
    {
     "data": {
      "text/plain": [
       "<matplotlib.axes._subplots.AxesSubplot at 0x7f6bd8d4e908>"
      ]
     },
     "execution_count": 134,
     "metadata": {},
     "output_type": "execute_result"
    },
    {
     "data": {
      "image/png": "[encoded data removed]",
      "text/plain": [
       "<matplotlib.figure.Figure at 0x7f6bd34d46a0>"
      ]
     },
     "metadata": {
      "needs_background": "light"
     },
     "output_type": "display_data"
    }
   ],
   "source": [
    "# Plot the ratios\n",
    "sns.barplot(x=list(ratio_dict.keys()), y=list(ratio_dict.values()))"
   ]
  },
  {
   "cell_type": "code",
   "execution_count": 159,
   "metadata": {},
   "outputs": [
    {
     "name": "stdout",
     "output_type": "stream",
     "text": [
      "[('FINANZ_ANLEGER', 1.2352744552285131), ('LP_STATUS_FEIN_5.0', 1.2268145916286464), ('SEMIO_RAT', 1.087465146460745), ('LP_STATUS_GROB_2.0', 1.0776924695771122), ('FINANZ_UNAUFFAELLIGER', 1.0285945721247416)]\n"
     ]
    }
   ],
   "source": [
    "# What kinds of people are part of a cluster that is overrepresented in the\n",
    "# customer data compared to the general population?\n",
    "\n",
    "# Cluster 1 seems to be over represented in customer data population(25percent) while the same cluster contributes\n",
    "# to less than 7 percent in the general population\n",
    "\n",
    "# Get cluster centers\n",
    "centers = pca.inverse_transform(kmeans.cluster_centers_)\n",
    "\n",
    "\n",
    "# Print most important features for cluster 1\n",
    "clust1 = dict(zip(headers,centers[1]))\n",
    "clust1 = sorted(clust1.items(), key=lambda kv: kv[1],reverse=True)\n",
    "print(clust1[:5])\n"
   ]
  },
  {
   "cell_type": "code",
   "execution_count": 162,
   "metadata": {},
   "outputs": [
    {
     "name": "stdout",
     "output_type": "stream",
     "text": [
      "[('SEMIO_KULT', 1.3847637227136789), ('SEMIO_FAM', 1.3677020690457182), ('SEMIO_SOZ', 1.2440536903924233), ('FINANZ_SPARER', 1.1898429406942788), ('SEMIO_REL', 1.1524945459596896)]\n",
      "[('SEMIO_KULT', 1.3643601231422122), ('SEMIO_FAM', 1.3040856257147511), ('SEMIO_REL', 1.2701194167779835), ('LP_STATUS_FEIN_5.0', 1.1747564206717536), ('FINANZTYP_4', 1.1412970522081702)]\n"
     ]
    }
   ],
   "source": [
    "# What kinds of people are part of a cluster that is underrepresented in the\n",
    "# customer data compared to the general population?\n",
    "\n",
    "# Clusters 0,5 and 9 seem to be underrepresented in customer data with a proportion less than one-fourth compared\n",
    "# to the general population\n",
    "\n",
    "# Print most important features for cluster 2\n",
    "clust0 = dict(zip(headers,centers[0]))\n",
    "clust0 = sorted(clust0.items(), key=lambda kv: kv[1],reverse=True)\n",
    "print(clust0[:5])\n",
    "\n",
    "# Print most important features for cluster 5\n",
    "clust5 = dict(zip(headers,centers[5]))\n",
    "clust5 = sorted(clust5.items(), key=lambda kv: kv[1],reverse=True)\n",
    "print(clust5[:5])\n",
    "\n"
   ]
  },
  {
   "cell_type": "markdown",
   "metadata": {},
   "source": [
    "### Discussion 3.3: Compare Customer Data to Demographics Data\n",
    "\n",
    "\n",
    "I have removed only 6 columns from the initial analysis and hence did not consider any additional cluster. By looking at the proportions of the people of each cluster in the customer data and the general population, I noticed that a few clusters are underrepresented (clusters 0 , 5 & 9)and one cluster is over represented (cluster 1). \n",
    "\n",
    "To understand the nature of these clusters, I had a look at the columns with highest weights for these cluster centers. It looks like Rich and Affluent customers are overrepresnted (as the features correspond to House owners, rich financial status etc. ) . On the other end of the spectrum, family oriented, religious and simple customers are underrepresented. The cluster centers of 0 and 5 point out to features like Cultural and Religious people. \n",
    "\n"
   ]
  },
  {
   "cell_type": "markdown",
   "metadata": {},
   "source": [
    "> Congratulations on making it this far in the project! Before you finish, make sure to check through the entire notebook from top to bottom to make sure that your analysis follows a logical flow and all of your findings are documented in **Discussion** cells. Once you've checked over all of your work, you should export the notebook as an HTML document to submit for evaluation. You can do this from the menu, navigating to **File -> Download as -> HTML (.html)**. You will submit both that document and this notebook for your project submission."
   ]
  },
  {
   "cell_type": "code",
   "execution_count": null,
   "metadata": {},
   "outputs": [],
   "source": []
  }
 ],
 "metadata": {
  "kernelspec": {
   "display_name": "Python 3",
   "language": "python",
   "name": "python3"
  },
  "language_info": {
   "codemirror_mode": {
    "name": "ipython",
    "version": 3
   },
   "file_extension": ".py",
   "mimetype": "text/x-python",
   "name": "python",
   "nbconvert_exporter": "python",
   "pygments_lexer": "ipython3",
   "version": "3.6.3"
  }
 },
 "nbformat": 4,
 "nbformat_minor": 2
}
